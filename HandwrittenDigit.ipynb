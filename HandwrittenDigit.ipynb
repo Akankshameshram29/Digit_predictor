{
 "cells": [
  {
   "cell_type": "code",
   "execution_count": 2,
   "id": "eb5d2a7d",
   "metadata": {},
   "outputs": [],
   "source": [
    "import os\n",
    "import cv2\n",
    "import numpy as np\n",
    "import matplotlib.pyplot as plt\n",
    "from tensorflow.keras.preprocessing.image import ImageDataGenerator\n",
    "from tensorflow.keras.models import Sequential\n",
    "from tensorflow.keras.layers import Conv2D, MaxPooling2D, Flatten, Dense, Dropout, BatchNormalization\n",
    "from tensorflow.keras.optimizers import Adam\n",
    "from tensorflow.keras.utils import to_categorical\n",
    "from sklearn.model_selection import train_test_split\n",
    "from tensorflow.keras.datasets import mnist  \n"
   ]
  },
  {
   "cell_type": "code",
   "execution_count": 3,
   "id": "078162c0",
   "metadata": {},
   "outputs": [],
   "source": [
    "(x_train, y_train), (x_test, y_test) = mnist.load_data()"
   ]
  },
  {
   "cell_type": "code",
   "execution_count": 5,
   "id": "4375e82d",
   "metadata": {},
   "outputs": [],
   "source": [
    "import cv2\n",
    "import os\n",
    "import numpy as np\n",
    "def pad_to_square(img, pad_value=0):\n",
    "    \"\"\"Pad the image to make it square (for uniform 28x28 resizing).\"\"\"\n",
    "    h, w = img.shape\n",
    "    diff = abs(h - w)\n",
    "    if h > w:\n",
    "        pad_left = diff // 2\n",
    "        pad_right = diff - pad_left\n",
    "        padded = cv2.copyMakeBorder(img, 0, 0, pad_left, pad_right, cv2.BORDER_CONSTANT, value=pad_value)\n",
    "    else:\n",
    "        pad_top = diff // 2\n",
    "        pad_bottom = diff - pad_top\n",
    "        padded = cv2.copyMakeBorder(img, pad_top, pad_bottom, 0, 0, cv2.BORDER_CONSTANT, value=pad_value)\n",
    "    return padded\n",
    "def extract_digits_from_page(image_path, save_dir, label, min_width=10, min_height=10, preview=False):\n",
    "    image = cv2.imread(image_path)\n",
    "    gray = cv2.cvtColor(image, cv2.COLOR_BGR2GRAY)\n",
    "    blurred = cv2.GaussianBlur(gray, (5, 5), 0)\n",
    "    _, thresh = cv2.threshold(blurred, 0, 255, cv2.THRESH_BINARY_INV + cv2.THRESH_OTSU)\n",
    "    contours, _ = cv2.findContours(thresh.copy(), cv2.RETR_EXTERNAL, cv2.CHAIN_APPROX_SIMPLE)\n",
    "    print(f\"\\n📄 Processing: {image_path} | Detected: {len(contours)} blobs\")\n",
    "    bounding_boxes = [cv2.boundingRect(c) for c in contours]\n",
    "    bounding_boxes.sort(key=lambda b: (b[1], b[0]))  # sort top-to-bottom, then left-to-right\n",
    "    save_path = os.path.join(save_dir, str(label))\n",
    "    os.makedirs(save_path, exist_ok=True)\n",
    "    count = 0\n",
    "    for i, (x, y, w, h) in enumerate(bounding_boxes):\n",
    "        if w >= min_width and h >= min_height:\n",
    "            roi = thresh[y:y+h, x:x+w]\n",
    "            roi_padded = pad_to_square(roi)\n",
    "            digit_resized = cv2.resize(roi_padded, (28, 28), interpolation=cv2.INTER_AREA)\n",
    "            file_path = os.path.join(save_path, f\"{label}_{count}.png\")\n",
    "            cv2.imwrite(file_path, digit_resized)\n",
    "            count += 1\n",
    "            if preview:\n",
    "                cv2.imshow(\"Digit\", digit_resized)\n",
    "                key = cv2.waitKey(150)\n",
    "                if key == 27:  # Esc key to stop preview\n",
    "                    break\n",
    "    if preview:\n",
    "        cv2.destroyAllWindows()\n",
    "        \n",
    "    print(f\"✅ Saved {count} digits to {save_path}\")\n",
    "def process_folder(folder_path, save_dir):\n",
    "    for file_name in os.listdir(folder_path):\n",
    "        if file_name.lower().endswith(('.png', '.jpg', '.jpeg')):\n",
    "            # Example file naming: digit_4_page1.jpg → label = 4\n",
    "            try:\n",
    "                label = int(file_name.split('_')[1])  # assumes format: digit_4_page1.jpg\n",
    "            except:\n",
    "                print(f\"⚠️ Skipping {file_name} (could not determine label)\")\n",
    "                continue\n",
    "            image_path = os.path.join(folder_path, file_name)\n",
    "            extract_digits_from_page(image_path, save_dir, label, preview=False)"
   ]
  },
  {
   "cell_type": "code",
   "execution_count": 6,
   "id": "17abda60",
   "metadata": {},
   "outputs": [
    {
     "name": "stdout",
     "output_type": "stream",
     "text": [
      "\n",
      "📄 Processing: C:\\Users\\akanksha meshram\\OneDrive\\Documents\\Desktop\\Digit_Prediction\\raw_digit_pages\\digit_0_page1.jpg | Detected: 55 blobs\n",
      "✅ Saved 26 digits to custom_digit\\0\n",
      "\n",
      "📄 Processing: C:\\Users\\akanksha meshram\\OneDrive\\Documents\\Desktop\\Digit_Prediction\\raw_digit_pages\\digit_0_page11.jpg | Detected: 314 blobs\n",
      "✅ Saved 60 digits to custom_digit\\0\n",
      "\n",
      "📄 Processing: C:\\Users\\akanksha meshram\\OneDrive\\Documents\\Desktop\\Digit_Prediction\\raw_digit_pages\\digit_1_page13.jpg | Detected: 136 blobs\n",
      "✅ Saved 35 digits to custom_digit\\1\n",
      "\n",
      "📄 Processing: C:\\Users\\akanksha meshram\\OneDrive\\Documents\\Desktop\\Digit_Prediction\\raw_digit_pages\\digit_1_page2.jpg | Detected: 64 blobs\n",
      "✅ Saved 23 digits to custom_digit\\1\n",
      "\n",
      "📄 Processing: C:\\Users\\akanksha meshram\\OneDrive\\Documents\\Desktop\\Digit_Prediction\\raw_digit_pages\\digit_2_page14.jpg | Detected: 198 blobs\n",
      "✅ Saved 58 digits to custom_digit\\2\n",
      "\n",
      "📄 Processing: C:\\Users\\akanksha meshram\\OneDrive\\Documents\\Desktop\\Digit_Prediction\\raw_digit_pages\\digit_2_page3.jpg | Detected: 72 blobs\n",
      "✅ Saved 33 digits to custom_digit\\2\n",
      "\n",
      "📄 Processing: C:\\Users\\akanksha meshram\\OneDrive\\Documents\\Desktop\\Digit_Prediction\\raw_digit_pages\\digit_3_page16.jpg | Detected: 125 blobs\n",
      "✅ Saved 25 digits to custom_digit\\3\n",
      "\n",
      "📄 Processing: C:\\Users\\akanksha meshram\\OneDrive\\Documents\\Desktop\\Digit_Prediction\\raw_digit_pages\\digit_3_page4.jpg | Detected: 82 blobs\n",
      "✅ Saved 29 digits to custom_digit\\3\n",
      "\n",
      "📄 Processing: C:\\Users\\akanksha meshram\\OneDrive\\Documents\\Desktop\\Digit_Prediction\\raw_digit_pages\\digit_4_page15.jpg | Detected: 118 blobs\n",
      "✅ Saved 16 digits to custom_digit\\4\n",
      "\n",
      "📄 Processing: C:\\Users\\akanksha meshram\\OneDrive\\Documents\\Desktop\\Digit_Prediction\\raw_digit_pages\\digit_4_page5.jpg | Detected: 204 blobs\n",
      "✅ Saved 29 digits to custom_digit\\4\n",
      "\n",
      "📄 Processing: C:\\Users\\akanksha meshram\\OneDrive\\Documents\\Desktop\\Digit_Prediction\\raw_digit_pages\\digit_5_pa.jpg | Detected: 113 blobs\n",
      "✅ Saved 45 digits to custom_digit\\5\n",
      "\n",
      "📄 Processing: C:\\Users\\akanksha meshram\\OneDrive\\Documents\\Desktop\\Digit_Prediction\\raw_digit_pages\\digit_5_page17.jpg | Detected: 113 blobs\n",
      "✅ Saved 45 digits to custom_digit\\5\n",
      "\n",
      "📄 Processing: C:\\Users\\akanksha meshram\\OneDrive\\Documents\\Desktop\\Digit_Prediction\\raw_digit_pages\\digit_5_page6.jpg | Detected: 38 blobs\n",
      "✅ Saved 23 digits to custom_digit\\5\n",
      "\n",
      "📄 Processing: C:\\Users\\akanksha meshram\\OneDrive\\Documents\\Desktop\\Digit_Prediction\\raw_digit_pages\\digit_6_page18.jpg | Detected: 69 blobs\n",
      "✅ Saved 22 digits to custom_digit\\6\n",
      "\n",
      "📄 Processing: C:\\Users\\akanksha meshram\\OneDrive\\Documents\\Desktop\\Digit_Prediction\\raw_digit_pages\\digit_6_page7.jpg | Detected: 118 blobs\n",
      "✅ Saved 48 digits to custom_digit\\6\n",
      "\n",
      "📄 Processing: C:\\Users\\akanksha meshram\\OneDrive\\Documents\\Desktop\\Digit_Prediction\\raw_digit_pages\\digit_7_page20.jpg | Detected: 198 blobs\n",
      "✅ Saved 32 digits to custom_digit\\7\n",
      "\n",
      "📄 Processing: C:\\Users\\akanksha meshram\\OneDrive\\Documents\\Desktop\\Digit_Prediction\\raw_digit_pages\\digit_7_page8.jpg | Detected: 48 blobs\n",
      "✅ Saved 26 digits to custom_digit\\7\n",
      "\n",
      "📄 Processing: C:\\Users\\akanksha meshram\\OneDrive\\Documents\\Desktop\\Digit_Prediction\\raw_digit_pages\\digit_8_page19.jpg | Detected: 62 blobs\n",
      "✅ Saved 18 digits to custom_digit\\8\n",
      "\n",
      "📄 Processing: C:\\Users\\akanksha meshram\\OneDrive\\Documents\\Desktop\\Digit_Prediction\\raw_digit_pages\\digit_8_page21.jpg | Detected: 381 blobs\n",
      "✅ Saved 47 digits to custom_digit\\8\n",
      "\n",
      "📄 Processing: C:\\Users\\akanksha meshram\\OneDrive\\Documents\\Desktop\\Digit_Prediction\\raw_digit_pages\\digit_8_page9.jpg | Detected: 133 blobs\n",
      "✅ Saved 39 digits to custom_digit\\8\n",
      "\n",
      "📄 Processing: C:\\Users\\akanksha meshram\\OneDrive\\Documents\\Desktop\\Digit_Prediction\\raw_digit_pages\\digit_9_page10.jpg | Detected: 77 blobs\n",
      "✅ Saved 35 digits to custom_digit\\9\n",
      "\n",
      "📄 Processing: C:\\Users\\akanksha meshram\\OneDrive\\Documents\\Desktop\\Digit_Prediction\\raw_digit_pages\\digit_9_page12.jpg | Detected: 96 blobs\n",
      "✅ Saved 15 digits to custom_digit\\9\n",
      "\n",
      "📄 Processing: C:\\Users\\akanksha meshram\\OneDrive\\Documents\\Desktop\\Digit_Prediction\\raw_digit_pages\\digit_9_page22.jpg | Detected: 58 blobs\n",
      "✅ Saved 17 digits to custom_digit\\9\n",
      "⚠️ Skipping image1.jpg (could not determine label)\n",
      "⚠️ Skipping WhatsApp Image 2025-08-13 at 01.19.12_98757569.jpg (could not determine label)\n"
     ]
    }
   ],
   "source": [
    "process_folder(r\"C:\\Users\\akanksha meshram\\OneDrive\\Documents\\Desktop\\Digit_Prediction\\raw_digit_pages\",\"custom_digit\")\n"
   ]
  },
  {
   "cell_type": "code",
   "execution_count": 7,
   "id": "4fdfa112",
   "metadata": {},
   "outputs": [],
   "source": [
    "import cv2\n",
    "import numpy as np\n",
    "import os\n",
    "import random\n",
    "def add_noise(img):\n",
    "    noise = np.random.randint(0, 50, img.shape, dtype='uint8')\n",
    "    return cv2.add(img, noise)\n",
    "def rotate_image(img, angle):\n",
    "    h, w = img.shape[:2]\n",
    "    M = cv2.getRotationMatrix2D((w//2, h//2), angle, 1)\n",
    "    return cv2.warpAffine(img, M, (w, h), borderValue=255)\n",
    "def shift_image(img, x_shift, y_shift):\n",
    "    M = np.float32([[1, 0, x_shift], [0, 1, y_shift]])\n",
    "    return cv2.warpAffine(img, M, (img.shape[1], img.shape[0]), borderValue=255)\n",
    "def scale_image(img, fx, fy):\n",
    "    return cv2.resize(img, None, fx=fx, fy=fy, interpolation=cv2.INTER_LINEAR)\n",
    "def invert_image(img):\n",
    "    return 255 - img\n",
    "# Augment images in-place inside 'custom_digits' folder\n",
    "base_dir = r\"C:\\Users\\akanksha meshram\\OneDrive\\Documents\\Desktop\\Digit_Prediction\\custom_digit\"\n",
    "for digit in os.listdir(base_dir):\n",
    "    digit_path = os.path.join(base_dir, digit)\n",
    "    if not os.path.isdir(digit_path):\n",
    "        continue\n",
    "    image_files = [f for f in os.listdir(digit_path) if f.endswith((\".png\", \".jpg\", \".jpeg\"))]\n",
    "    for img_name in image_files:\n",
    "        img_path = os.path.join(digit_path, img_name)\n",
    "        img = cv2.imread(img_path, cv2.IMREAD_GRAYSCALE)\n",
    "        if img is None:\n",
    "            continue\n",
    "        # Generate 3 augmentations per image\n",
    "        for i in range(3):\n",
    "            rotated = rotate_image(img, angle=random.choice([-15, -10, 10, 15]))\n",
    "            shifted = shift_image(rotated, random.randint(-3, 3), random.randint(-3, 3))\n",
    "            noisy = add_noise(shifted)\n",
    "            final = invert_image(noisy) if random.random() < 0.5 else noisy\n",
    "            new_filename = f\"{os.path.splitext(img_name)[0]}_aug{i}.png\"\n",
    "            new_path = os.path.join(digit_path, new_filename)\n",
    "            cv2.imwrite(new_path, final)"
   ]
  },
  {
   "cell_type": "code",
   "execution_count": null,
   "id": "c95bf085",
   "metadata": {},
   "outputs": [],
   "source": [
    "def load_custom_digits(base_dir):\n",
    "    images, labels = [], []\n",
    "    for label in range(10):  # Assuming folders '0' to '9'\n",
    "        folder = os.path.join(base_dir, str(label))\n",
    "        if not os.path.isdir(folder):\n",
    "            continue\n",
    "        for fname in os.listdir(folder):\n",
    "            if fname.lower().endswith((\".png\", \".jpg\", \".jpeg\")):\n",
    "                img_path = os.path.join(folder, fname)\n",
    "                img = cv2.imread(img_path, cv2.IMREAD_GRAYSCALE)\n",
    "                if img is None:\n",
    "                    continue\n",
    "                img = img.astype(\"float32\") / 255.0\n",
    "                images.append(np.expand_dims(img, -1))\n",
    "                labels.append(label)\n",
    "    return np.array(images), np.array(labels)\n",
    "\n",
    "custom_data_dir = r\"C:\\Users\\akanksha meshram\\OneDrive\\Documents\\Desktop\\Digit_Prediction\\custom_digit\"\n",
    "x_custom, y_custom = load_custom_digits(custom_data_dir)\n"
   ]
  },
  {
   "cell_type": "code",
   "execution_count": 8,
   "id": "01185971",
   "metadata": {},
   "outputs": [],
   "source": [
    "x_train = x_train.astype(\"float32\") / 255.0\n",
    "x_test = x_test.astype(\"float32\") / 255.0\n",
    "\n",
    "# Expand dims to add channel for grayscale\n",
    "x_train = np.expand_dims(x_train, -1)\n",
    "x_test = np.expand_dims(x_test, -1)\n"
   ]
  },
  {
   "cell_type": "code",
   "execution_count": 9,
   "id": "a75fe3d1",
   "metadata": {},
   "outputs": [
    {
     "data": {
      "text/plain": [
       "((60000, 10), (10000, 10), (10905, 10))"
      ]
     },
     "execution_count": 9,
     "metadata": {},
     "output_type": "execute_result"
    }
   ],
   "source": [
    "y_train = to_categorical(y_train, 10)\n",
    "y_test = to_categorical(y_test, 10)\n",
    "y_custom = to_categorical(y_custom, 10)\n",
    "y_train.shape, y_test.shape, y_custom.shape"
   ]
  },
  {
   "cell_type": "code",
   "execution_count": 10,
   "id": "76efb7b2",
   "metadata": {},
   "outputs": [
    {
     "name": "stdout",
     "output_type": "stream",
     "text": [
      "Combined training data shape: (70905, 28, 28, 1)\n",
      "Combined training labels shape: (70905, 10)\n"
     ]
    }
   ],
   "source": [
    "x_train_combined = np.concatenate((x_train, x_custom), axis=0)\n",
    "y_train_combined = np.concatenate((y_train, y_custom), axis=0)\n",
    "\n",
    "print(f\"Combined training data shape: {x_train_combined.shape}\")\n",
    "print(f\"Combined training labels shape: {y_train_combined.shape}\")"
   ]
  },
  {
   "cell_type": "code",
   "execution_count": 11,
   "id": "7b738624",
   "metadata": {},
   "outputs": [
    {
     "name": "stderr",
     "output_type": "stream",
     "text": [
      "c:\\Users\\akanksha meshram\\anaconda3\\envs\\tf_env\\lib\\site-packages\\keras\\src\\layers\\convolutional\\base_conv.py:113: UserWarning: Do not pass an `input_shape`/`input_dim` argument to a layer. When using Sequential models, prefer using an `Input(shape)` object as the first layer in the model instead.\n",
      "  super().__init__(activity_regularizer=activity_regularizer, **kwargs)\n"
     ]
    }
   ],
   "source": [
    "model = Sequential([\n",
    "    Conv2D(32, (3, 3), activation='relu', input_shape=(28, 28, 1)),\n",
    "    MaxPooling2D((2, 2)),\n",
    "    Conv2D(64, (3, 3), activation='relu'),\n",
    "    MaxPooling2D((2, 2)),\n",
    "    Flatten(),\n",
    "    Dense(128, activation='relu'),\n",
    "    Dropout(0.5),\n",
    "    Dense(10, activation='softmax')\n",
    "])\n",
    "model.compile(optimizer=Adam(), loss='categorical_crossentropy', metrics=['accuracy'])"
   ]
  },
  {
   "cell_type": "code",
   "execution_count": 12,
   "id": "82fb4a16",
   "metadata": {},
   "outputs": [],
   "source": [
    "from tensorflow.keras.preprocessing.image import ImageDataGenerator\n",
    "\n",
    "# Define ImageDataGenerator with augmentations similar to your OpenCV ones\n",
    "datagen = ImageDataGenerator(\n",
    "    rotation_range=15,        # rotate images randomly up to ±15 degrees\n",
    "    width_shift_range=0.1,    # horizontal shift up to 10%\n",
    "    height_shift_range=0.1,   # vertical shift up to 10%\n",
    "    shear_range=0.1,          # shear angle in counter-clockwise direction in degrees\n",
    "    zoom_range=0.1,           # zoom in/out\n",
    "    fill_mode='nearest'       # fill missing pixels with nearest values\n",
    ")\n",
    "\n",
    "# Fit generator to your combined training data (optional for some augmentations)\n",
    "datagen.fit(x_train_combined)\n"
   ]
  },
  {
   "cell_type": "code",
   "execution_count": 14,
   "id": "34813275",
   "metadata": {},
   "outputs": [
    {
     "name": "stderr",
     "output_type": "stream",
     "text": [
      "c:\\Users\\akanksha meshram\\anaconda3\\envs\\tf_env\\lib\\site-packages\\keras\\src\\trainers\\data_adapters\\py_dataset_adapter.py:121: UserWarning: Your `PyDataset` class should call `super().__init__(**kwargs)` in its constructor. `**kwargs` can include `workers`, `use_multiprocessing`, `max_queue_size`. Do not pass these arguments to `fit()`, as they will be ignored.\n",
      "  self._warn_if_super_not_called()\n"
     ]
    },
    {
     "name": "stdout",
     "output_type": "stream",
     "text": [
      "Epoch 1/10\n",
      "\u001b[1m498/498\u001b[0m \u001b[32m━━━━━━━━━━━━━━━━━━━━\u001b[0m\u001b[37m\u001b[0m \u001b[1m50s\u001b[0m 93ms/step - accuracy: 0.5945 - loss: 1.1942 - val_accuracy: 0.8938 - val_loss: 0.3275\n",
      "Epoch 2/10\n",
      "\u001b[1m  1/498\u001b[0m \u001b[37m━━━━━━━━━━━━━━━━━━━━\u001b[0m \u001b[1m21s\u001b[0m 44ms/step - accuracy: 0.8438 - loss: 0.4610"
     ]
    },
    {
     "name": "stderr",
     "output_type": "stream",
     "text": [
      "c:\\Users\\akanksha meshram\\anaconda3\\envs\\tf_env\\lib\\site-packages\\keras\\src\\trainers\\epoch_iterator.py:116: UserWarning: Your input ran out of data; interrupting training. Make sure that your dataset or generator can generate at least `steps_per_epoch * epochs` batches. You may need to use the `.repeat()` function when building your dataset.\n",
      "  self._interrupted_warning()\n"
     ]
    },
    {
     "name": "stdout",
     "output_type": "stream",
     "text": [
      "\u001b[1m498/498\u001b[0m \u001b[32m━━━━━━━━━━━━━━━━━━━━\u001b[0m\u001b[37m\u001b[0m \u001b[1m1s\u001b[0m 3ms/step - accuracy: 0.8438 - loss: 0.4610 - val_accuracy: 0.8940 - val_loss: 0.3274\n",
      "Epoch 3/10\n",
      "\u001b[1m498/498\u001b[0m \u001b[32m━━━━━━━━━━━━━━━━━━━━\u001b[0m\u001b[37m\u001b[0m \u001b[1m46s\u001b[0m 93ms/step - accuracy: 0.8350 - loss: 0.5052 - val_accuracy: 0.9172 - val_loss: 0.2648\n",
      "Epoch 4/10\n",
      "\u001b[1m498/498\u001b[0m \u001b[32m━━━━━━━━━━━━━━━━━━━━\u001b[0m\u001b[37m\u001b[0m \u001b[1m1s\u001b[0m 3ms/step - accuracy: 0.8906 - loss: 0.3605 - val_accuracy: 0.9167 - val_loss: 0.2660\n",
      "Epoch 5/10\n",
      "\u001b[1m498/498\u001b[0m \u001b[32m━━━━━━━━━━━━━━━━━━━━\u001b[0m\u001b[37m\u001b[0m \u001b[1m47s\u001b[0m 95ms/step - accuracy: 0.8620 - loss: 0.4258 - val_accuracy: 0.9193 - val_loss: 0.2396\n",
      "Epoch 6/10\n",
      "\u001b[1m498/498\u001b[0m \u001b[32m━━━━━━━━━━━━━━━━━━━━\u001b[0m\u001b[37m\u001b[0m \u001b[1m1s\u001b[0m 3ms/step - accuracy: 0.8828 - loss: 0.3311 - val_accuracy: 0.9185 - val_loss: 0.2421\n",
      "Epoch 7/10\n",
      "\u001b[1m498/498\u001b[0m \u001b[32m━━━━━━━━━━━━━━━━━━━━\u001b[0m\u001b[37m\u001b[0m \u001b[1m43s\u001b[0m 87ms/step - accuracy: 0.8771 - loss: 0.3752 - val_accuracy: 0.9251 - val_loss: 0.2240\n",
      "Epoch 8/10\n",
      "\u001b[1m498/498\u001b[0m \u001b[32m━━━━━━━━━━━━━━━━━━━━\u001b[0m\u001b[37m\u001b[0m \u001b[1m1s\u001b[0m 3ms/step - accuracy: 0.8906 - loss: 0.3080 - val_accuracy: 0.9237 - val_loss: 0.2264\n",
      "Epoch 9/10\n",
      "\u001b[1m498/498\u001b[0m \u001b[32m━━━━━━━━━━━━━━━━━━━━\u001b[0m\u001b[37m\u001b[0m \u001b[1m47s\u001b[0m 95ms/step - accuracy: 0.8825 - loss: 0.3536 - val_accuracy: 0.9248 - val_loss: 0.2203\n",
      "Epoch 10/10\n",
      "\u001b[1m498/498\u001b[0m \u001b[32m━━━━━━━━━━━━━━━━━━━━\u001b[0m\u001b[37m\u001b[0m \u001b[1m1s\u001b[0m 2ms/step - accuracy: 0.8984 - loss: 0.3588 - val_accuracy: 0.9236 - val_loss: 0.2285\n"
     ]
    }
   ],
   "source": [
    "batch_size = 128\n",
    "epochs = 10\n",
    "\n",
    "# Fit the datagen on the combined training data (optional for some augmentations)\n",
    "datagen.fit(x_train_combined)\n",
    "\n",
    "from sklearn.model_selection import train_test_split\n",
    "\n",
    "# Split combined data into train and validation sets\n",
    "x_train_final, x_val, y_train_final, y_val = train_test_split(\n",
    "    x_train_combined, y_train_combined, test_size=0.1, random_state=42\n",
    ")\n",
    "\n",
    "# Use the generator only on the training data\n",
    "train_generator = datagen.flow(x_train_final, y_train_final, batch_size=batch_size)\n",
    "\n",
    "# Train with validation data separately (pass x_val, y_val as validation_data)\n",
    "history = model.fit(\n",
    "    train_generator,\n",
    "    epochs=epochs,\n",
    "    validation_data=(x_val, y_val),\n",
    "    steps_per_epoch=len(x_train_final) // batch_size\n",
    ")\n"
   ]
  },
  {
   "cell_type": "code",
   "execution_count": 17,
   "id": "a1545a06",
   "metadata": {},
   "outputs": [
    {
     "name": "stderr",
     "output_type": "stream",
     "text": [
      "WARNING:absl:You are saving your model as an HDF5 file via `model.save()` or `keras.saving.save_model(model)`. This file format is considered legacy. We recommend using instead the native Keras format, e.g. `model.save('my_model.keras')` or `keras.saving.save_model(model, 'my_model.keras')`. \n"
     ]
    },
    {
     "name": "stdout",
     "output_type": "stream",
     "text": [
      "Model saved to my_digit_model.h5\n"
     ]
    }
   ],
   "source": [
    "# After model.fit(...)\n",
    "model.save('my_digit_model.h5')\n",
    "print(\"Model saved to my_digit_model.h5\")\n"
   ]
  },
  {
   "cell_type": "code",
   "execution_count": 18,
   "id": "ac2029cb",
   "metadata": {},
   "outputs": [
    {
     "name": "stderr",
     "output_type": "stream",
     "text": [
      "WARNING:absl:Compiled the loaded model, but the compiled metrics have yet to be built. `model.compile_metrics` will be empty until you train or evaluate the model.\n"
     ]
    },
    {
     "data": {
      "text/html": [
       "<pre style=\"white-space:pre;overflow-x:auto;line-height:normal;font-family:Menlo,'DejaVu Sans Mono',consolas,'Courier New',monospace\"><span style=\"font-weight: bold\">Model: \"sequential\"</span>\n",
       "</pre>\n"
      ],
      "text/plain": [
       "\u001b[1mModel: \"sequential\"\u001b[0m\n"
      ]
     },
     "metadata": {},
     "output_type": "display_data"
    },
    {
     "data": {
      "text/html": [
       "<pre style=\"white-space:pre;overflow-x:auto;line-height:normal;font-family:Menlo,'DejaVu Sans Mono',consolas,'Courier New',monospace\">┏━━━━━━━━━━━━━━━━━━━━━━━━━━━━━━━━━┳━━━━━━━━━━━━━━━━━━━━━━━━┳━━━━━━━━━━━━━━━┓\n",
       "┃<span style=\"font-weight: bold\"> Layer (type)                    </span>┃<span style=\"font-weight: bold\"> Output Shape           </span>┃<span style=\"font-weight: bold\">       Param # </span>┃\n",
       "┡━━━━━━━━━━━━━━━━━━━━━━━━━━━━━━━━━╇━━━━━━━━━━━━━━━━━━━━━━━━╇━━━━━━━━━━━━━━━┩\n",
       "│ conv2d (<span style=\"color: #0087ff; text-decoration-color: #0087ff\">Conv2D</span>)                 │ (<span style=\"color: #00d7ff; text-decoration-color: #00d7ff\">None</span>, <span style=\"color: #00af00; text-decoration-color: #00af00\">26</span>, <span style=\"color: #00af00; text-decoration-color: #00af00\">26</span>, <span style=\"color: #00af00; text-decoration-color: #00af00\">32</span>)     │           <span style=\"color: #00af00; text-decoration-color: #00af00\">320</span> │\n",
       "├─────────────────────────────────┼────────────────────────┼───────────────┤\n",
       "│ max_pooling2d (<span style=\"color: #0087ff; text-decoration-color: #0087ff\">MaxPooling2D</span>)    │ (<span style=\"color: #00d7ff; text-decoration-color: #00d7ff\">None</span>, <span style=\"color: #00af00; text-decoration-color: #00af00\">13</span>, <span style=\"color: #00af00; text-decoration-color: #00af00\">13</span>, <span style=\"color: #00af00; text-decoration-color: #00af00\">32</span>)     │             <span style=\"color: #00af00; text-decoration-color: #00af00\">0</span> │\n",
       "├─────────────────────────────────┼────────────────────────┼───────────────┤\n",
       "│ conv2d_1 (<span style=\"color: #0087ff; text-decoration-color: #0087ff\">Conv2D</span>)               │ (<span style=\"color: #00d7ff; text-decoration-color: #00d7ff\">None</span>, <span style=\"color: #00af00; text-decoration-color: #00af00\">11</span>, <span style=\"color: #00af00; text-decoration-color: #00af00\">11</span>, <span style=\"color: #00af00; text-decoration-color: #00af00\">64</span>)     │        <span style=\"color: #00af00; text-decoration-color: #00af00\">18,496</span> │\n",
       "├─────────────────────────────────┼────────────────────────┼───────────────┤\n",
       "│ max_pooling2d_1 (<span style=\"color: #0087ff; text-decoration-color: #0087ff\">MaxPooling2D</span>)  │ (<span style=\"color: #00d7ff; text-decoration-color: #00d7ff\">None</span>, <span style=\"color: #00af00; text-decoration-color: #00af00\">5</span>, <span style=\"color: #00af00; text-decoration-color: #00af00\">5</span>, <span style=\"color: #00af00; text-decoration-color: #00af00\">64</span>)       │             <span style=\"color: #00af00; text-decoration-color: #00af00\">0</span> │\n",
       "├─────────────────────────────────┼────────────────────────┼───────────────┤\n",
       "│ flatten (<span style=\"color: #0087ff; text-decoration-color: #0087ff\">Flatten</span>)               │ (<span style=\"color: #00d7ff; text-decoration-color: #00d7ff\">None</span>, <span style=\"color: #00af00; text-decoration-color: #00af00\">1600</span>)           │             <span style=\"color: #00af00; text-decoration-color: #00af00\">0</span> │\n",
       "├─────────────────────────────────┼────────────────────────┼───────────────┤\n",
       "│ dense (<span style=\"color: #0087ff; text-decoration-color: #0087ff\">Dense</span>)                   │ (<span style=\"color: #00d7ff; text-decoration-color: #00d7ff\">None</span>, <span style=\"color: #00af00; text-decoration-color: #00af00\">128</span>)            │       <span style=\"color: #00af00; text-decoration-color: #00af00\">204,928</span> │\n",
       "├─────────────────────────────────┼────────────────────────┼───────────────┤\n",
       "│ dropout (<span style=\"color: #0087ff; text-decoration-color: #0087ff\">Dropout</span>)               │ (<span style=\"color: #00d7ff; text-decoration-color: #00d7ff\">None</span>, <span style=\"color: #00af00; text-decoration-color: #00af00\">128</span>)            │             <span style=\"color: #00af00; text-decoration-color: #00af00\">0</span> │\n",
       "├─────────────────────────────────┼────────────────────────┼───────────────┤\n",
       "│ dense_1 (<span style=\"color: #0087ff; text-decoration-color: #0087ff\">Dense</span>)                 │ (<span style=\"color: #00d7ff; text-decoration-color: #00d7ff\">None</span>, <span style=\"color: #00af00; text-decoration-color: #00af00\">10</span>)             │         <span style=\"color: #00af00; text-decoration-color: #00af00\">1,290</span> │\n",
       "└─────────────────────────────────┴────────────────────────┴───────────────┘\n",
       "</pre>\n"
      ],
      "text/plain": [
       "┏━━━━━━━━━━━━━━━━━━━━━━━━━━━━━━━━━┳━━━━━━━━━━━━━━━━━━━━━━━━┳━━━━━━━━━━━━━━━┓\n",
       "┃\u001b[1m \u001b[0m\u001b[1mLayer (type)                   \u001b[0m\u001b[1m \u001b[0m┃\u001b[1m \u001b[0m\u001b[1mOutput Shape          \u001b[0m\u001b[1m \u001b[0m┃\u001b[1m \u001b[0m\u001b[1m      Param #\u001b[0m\u001b[1m \u001b[0m┃\n",
       "┡━━━━━━━━━━━━━━━━━━━━━━━━━━━━━━━━━╇━━━━━━━━━━━━━━━━━━━━━━━━╇━━━━━━━━━━━━━━━┩\n",
       "│ conv2d (\u001b[38;5;33mConv2D\u001b[0m)                 │ (\u001b[38;5;45mNone\u001b[0m, \u001b[38;5;34m26\u001b[0m, \u001b[38;5;34m26\u001b[0m, \u001b[38;5;34m32\u001b[0m)     │           \u001b[38;5;34m320\u001b[0m │\n",
       "├─────────────────────────────────┼────────────────────────┼───────────────┤\n",
       "│ max_pooling2d (\u001b[38;5;33mMaxPooling2D\u001b[0m)    │ (\u001b[38;5;45mNone\u001b[0m, \u001b[38;5;34m13\u001b[0m, \u001b[38;5;34m13\u001b[0m, \u001b[38;5;34m32\u001b[0m)     │             \u001b[38;5;34m0\u001b[0m │\n",
       "├─────────────────────────────────┼────────────────────────┼───────────────┤\n",
       "│ conv2d_1 (\u001b[38;5;33mConv2D\u001b[0m)               │ (\u001b[38;5;45mNone\u001b[0m, \u001b[38;5;34m11\u001b[0m, \u001b[38;5;34m11\u001b[0m, \u001b[38;5;34m64\u001b[0m)     │        \u001b[38;5;34m18,496\u001b[0m │\n",
       "├─────────────────────────────────┼────────────────────────┼───────────────┤\n",
       "│ max_pooling2d_1 (\u001b[38;5;33mMaxPooling2D\u001b[0m)  │ (\u001b[38;5;45mNone\u001b[0m, \u001b[38;5;34m5\u001b[0m, \u001b[38;5;34m5\u001b[0m, \u001b[38;5;34m64\u001b[0m)       │             \u001b[38;5;34m0\u001b[0m │\n",
       "├─────────────────────────────────┼────────────────────────┼───────────────┤\n",
       "│ flatten (\u001b[38;5;33mFlatten\u001b[0m)               │ (\u001b[38;5;45mNone\u001b[0m, \u001b[38;5;34m1600\u001b[0m)           │             \u001b[38;5;34m0\u001b[0m │\n",
       "├─────────────────────────────────┼────────────────────────┼───────────────┤\n",
       "│ dense (\u001b[38;5;33mDense\u001b[0m)                   │ (\u001b[38;5;45mNone\u001b[0m, \u001b[38;5;34m128\u001b[0m)            │       \u001b[38;5;34m204,928\u001b[0m │\n",
       "├─────────────────────────────────┼────────────────────────┼───────────────┤\n",
       "│ dropout (\u001b[38;5;33mDropout\u001b[0m)               │ (\u001b[38;5;45mNone\u001b[0m, \u001b[38;5;34m128\u001b[0m)            │             \u001b[38;5;34m0\u001b[0m │\n",
       "├─────────────────────────────────┼────────────────────────┼───────────────┤\n",
       "│ dense_1 (\u001b[38;5;33mDense\u001b[0m)                 │ (\u001b[38;5;45mNone\u001b[0m, \u001b[38;5;34m10\u001b[0m)             │         \u001b[38;5;34m1,290\u001b[0m │\n",
       "└─────────────────────────────────┴────────────────────────┴───────────────┘\n"
      ]
     },
     "metadata": {},
     "output_type": "display_data"
    },
    {
     "data": {
      "text/html": [
       "<pre style=\"white-space:pre;overflow-x:auto;line-height:normal;font-family:Menlo,'DejaVu Sans Mono',consolas,'Courier New',monospace\"><span style=\"font-weight: bold\"> Total params: </span><span style=\"color: #00af00; text-decoration-color: #00af00\">225,036</span> (879.05 KB)\n",
       "</pre>\n"
      ],
      "text/plain": [
       "\u001b[1m Total params: \u001b[0m\u001b[38;5;34m225,036\u001b[0m (879.05 KB)\n"
      ]
     },
     "metadata": {},
     "output_type": "display_data"
    },
    {
     "data": {
      "text/html": [
       "<pre style=\"white-space:pre;overflow-x:auto;line-height:normal;font-family:Menlo,'DejaVu Sans Mono',consolas,'Courier New',monospace\"><span style=\"font-weight: bold\"> Trainable params: </span><span style=\"color: #00af00; text-decoration-color: #00af00\">225,034</span> (879.04 KB)\n",
       "</pre>\n"
      ],
      "text/plain": [
       "\u001b[1m Trainable params: \u001b[0m\u001b[38;5;34m225,034\u001b[0m (879.04 KB)\n"
      ]
     },
     "metadata": {},
     "output_type": "display_data"
    },
    {
     "data": {
      "text/html": [
       "<pre style=\"white-space:pre;overflow-x:auto;line-height:normal;font-family:Menlo,'DejaVu Sans Mono',consolas,'Courier New',monospace\"><span style=\"font-weight: bold\"> Non-trainable params: </span><span style=\"color: #00af00; text-decoration-color: #00af00\">0</span> (0.00 B)\n",
       "</pre>\n"
      ],
      "text/plain": [
       "\u001b[1m Non-trainable params: \u001b[0m\u001b[38;5;34m0\u001b[0m (0.00 B)\n"
      ]
     },
     "metadata": {},
     "output_type": "display_data"
    },
    {
     "data": {
      "text/html": [
       "<pre style=\"white-space:pre;overflow-x:auto;line-height:normal;font-family:Menlo,'DejaVu Sans Mono',consolas,'Courier New',monospace\"><span style=\"font-weight: bold\"> Optimizer params: </span><span style=\"color: #00af00; text-decoration-color: #00af00\">2</span> (12.00 B)\n",
       "</pre>\n"
      ],
      "text/plain": [
       "\u001b[1m Optimizer params: \u001b[0m\u001b[38;5;34m2\u001b[0m (12.00 B)\n"
      ]
     },
     "metadata": {},
     "output_type": "display_data"
    }
   ],
   "source": [
    "from tensorflow.keras.models import load_model\n",
    "\n",
    "model = load_model('my_digit_model.h5')\n",
    "model.summary()\n"
   ]
  },
  {
   "cell_type": "code",
   "execution_count": 20,
   "id": "4d3bd259",
   "metadata": {},
   "outputs": [
    {
     "name": "stdout",
     "output_type": "stream",
     "text": [
      "MNIST test accuracy: 0.9878\n",
      "Custom dataset accuracy: 0.5908\n"
     ]
    }
   ],
   "source": [
    "test_loss, test_accuracy = model.evaluate(x_test, y_test, verbose=0)\n",
    "print(f\"MNIST test accuracy: {test_accuracy:.4f}\")\n",
    "\n",
    "# 10. Evaluate on custom dataset\n",
    "custom_loss, custom_accuracy = model.evaluate(x_custom, y_custom, verbose=0)\n",
    "print(f\"Custom dataset accuracy: {custom_accuracy:.4f}\")\n"
   ]
  },
  {
   "cell_type": "code",
   "execution_count": 22,
   "id": "021eb799",
   "metadata": {},
   "outputs": [
    {
     "name": "stdout",
     "output_type": "stream",
     "text": [
      "\u001b[1m1/1\u001b[0m \u001b[32m━━━━━━━━━━━━━━━━━━━━\u001b[0m\u001b[37m\u001b[0m \u001b[1m0s\u001b[0m 155ms/step\n"
     ]
    },
    {
     "data": {
      "image/png": "[encoded data removed]",
      "text/plain": [
       "<Figure size 640x480 with 9 Axes>"
      ]
     },
     "metadata": {},
     "output_type": "display_data"
    }
   ],
   "source": [
    "from matplotlib import pyplot as plt\n",
    "predictions = model.predict(x_test[:9])\n",
    "for i in range(9):\n",
    "    plt.subplot(3,3,i+1)\n",
    "plt.imshow(x_test[i].reshape(28,28),cmap='gray')\n",
    "plt.title(f\"pred:{np.argmax(predictions[i])}\")\n",
    "plt.axis('off')\n",
    "plt.show()"
   ]
  }
 ],
 "metadata": {
  "kernelspec": {
   "display_name": "tf_env",
   "language": "python",
   "name": "python3"
  },
  "language_info": {
   "codemirror_mode": {
    "name": "ipython",
    "version": 3
   },
   "file_extension": ".py",
   "mimetype": "text/x-python",
   "name": "python",
   "nbconvert_exporter": "python",
   "pygments_lexer": "ipython3",
   "version": "3.10.16"
  }
 },
 "nbformat": 4,
 "nbformat_minor": 5
}
